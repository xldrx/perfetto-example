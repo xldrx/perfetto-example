{
 "cells": [
  {
   "cell_type": "code",
   "execution_count": 53,
   "id": "1b3866b7-e8e8-4f01-92a3-36a027e9d814",
   "metadata": {},
   "outputs": [
    {
     "name": "stdout",
     "output_type": "stream",
     "text": [
      "/Users/xl/Development/perfetto-example/perfetto_protos\n"
     ]
    }
   ],
   "source": [
    "# Load Perfetto Protos\n",
    "import os\n",
    "import sys\n",
    "proto_python_path=os.path.join(os.path.abspath(os.curdir), \"perfetto_protos\")\n",
    "print(proto_python_path)\n",
    "sys.path.append(proto_python_path)"
   ]
  },
  {
   "cell_type": "code",
   "execution_count": 54,
   "id": "0ae7e847-e1ac-4a2d-931d-b9ea9791a54b",
   "metadata": {},
   "outputs": [],
   "source": [
    "from protos.perfetto.trace import trace_pb2\n",
    "from protos.perfetto.trace import trace_packet_pb2\n",
    "from protos.perfetto.trace.track_event import track_event_pb2"
   ]
  },
  {
   "cell_type": "code",
   "execution_count": 55,
   "id": "82e280e3-69ac-4d78-9106-3168b452822e",
   "metadata": {
    "editable": true,
    "slideshow": {
     "slide_type": ""
    },
    "tags": [
     "hide-input"
    ]
   },
   "outputs": [],
   "source": [
    "# Perfetto Tools\n",
    "import jinja2\n",
    "import gzip\n",
    "\n",
    "def export_perfetto(trace, name, path=\"./reports\"):\n",
    "  if not os.path.exists(path):\n",
    "      os.makedirs(path)\n",
    "  trace_path = f\"{path}/{name}.gz.pefetto\"\n",
    "  html_path = f\"{path}/{name}.html\"\n",
    "  trace_file = os.path.basename(trace_path)\n",
    "\n",
    "  # data\n",
    "  compressed_data = gzip.compress(trace.SerializeToString())\n",
    "  with open(trace_path, \"wb\") as fp:\n",
    "    fp.write(compressed_data)\n",
    "\n",
    "  # html\n",
    "  with open(\"./index.html.template\", \"r\") as fp:\n",
    "    template = jinja2.Template(fp.read())\n",
    "  with open(html_path, \"w\") as fp:\n",
    "    fp.write(template.render(trace_file=trace_file))\n",
    "\n",
    "  return html_path"
   ]
  },
  {
   "cell_type": "code",
   "execution_count": 56,
   "id": "eca0055a-ea9e-49e6-8bf9-cb7420549ca4",
   "metadata": {},
   "outputs": [],
   "source": [
    "# Trace Tools\n",
    "\n",
    "def add_clock(timezone_delta=None):\n",
    "  ret = [trace_packet_pb2.TracePacket(trace_packet_defaults=dict(timestamp_clock_id=1))] #REALTIME\n",
    "  if timezone_delta is not None:\n",
    "    offset_minutes = round(timezone_delta.total_seconds() // 60)\n",
    "    ret.append(\n",
    "      trace_packet_pb2.TracePacket(system_info=dict(timezone_off_mins=offset_minutes))\n",
    "    )\n",
    "  return ret\n",
    "\n",
    "def add_track(name, *, uuid, parent_uuid=0, **args):\n",
    "  return [\n",
    "    trace_packet_pb2.TracePacket(\n",
    "      track_descriptor=dict(\n",
    "        name=name, uuid=uuid, parent_uuid=parent_uuid, **args\n",
    "      )\n",
    "    )\n",
    "  ]\n",
    "\n",
    "\n",
    "def add_scope(name, *, start, end, track_uuid, data=None, **args):\n",
    "  return [\n",
    "      trace_packet_pb2.TracePacket(\n",
    "          trusted_packet_sequence_id=42,\n",
    "          track_event=dict(\n",
    "              type=\"TYPE_SLICE_BEGIN\",\n",
    "              timestamp_absolute_us=start,\n",
    "              track_uuid=track_uuid,\n",
    "              name=name,\n",
    "              debug_annotations=(\n",
    "                  None\n",
    "                  if data is None\n",
    "                  else [\n",
    "                      dict(name=name, string_value=str(value))\n",
    "                      for name, value in data.items()\n",
    "                  ]\n",
    "              ),\n",
    "              **args,\n",
    "          ),\n",
    "      ),\n",
    "      trace_packet_pb2.TracePacket(\n",
    "          trusted_packet_sequence_id=42,\n",
    "          track_event=dict(\n",
    "              type=\"TYPE_SLICE_END\",\n",
    "              track_uuid=track_uuid,\n",
    "              timestamp_absolute_us=end,\n",
    "          ),\n",
    "      ),\n",
    "  ]\n",
    "\n",
    "\n",
    "def add_instant_event(name, *, start, track_uuid, data=None, **args):\n",
    "  return [\n",
    "      trace_packet_pb2.TracePacket(\n",
    "          trusted_packet_sequence_id=42,\n",
    "          track_event=dict(\n",
    "              type=\"TYPE_INSTANT\",\n",
    "              timestamp_absolute_us=start,\n",
    "              track_uuid=track_uuid,\n",
    "              name=name,\n",
    "              debug_annotations=(\n",
    "                  None\n",
    "                  if data is None\n",
    "                  else [\n",
    "                      dict(name=name, string_value=str(value))\n",
    "                      for name, value in data.items()\n",
    "                  ]\n",
    "              ),\n",
    "              **args,\n",
    "          ),\n",
    "      )\n",
    "  ]\n"
   ]
  },
  {
   "cell_type": "code",
   "execution_count": 57,
   "id": "8a759adb-9cb5-440d-8c05-2f57376d83ea",
   "metadata": {},
   "outputs": [
    {
     "data": {
      "text/plain": [
       "'./reports/example.html'"
      ]
     },
     "execution_count": 57,
     "metadata": {},
     "output_type": "execute_result"
    }
   ],
   "source": [
    "# Example Perfetto\n",
    "\n",
    "import datetime\n",
    "base = round(datetime.datetime.now().now().timestamp() * 1e6)\n",
    "\n",
    "trace = trace_pb2.Trace()\n",
    "\n",
    "trace.packet.extend(add_clock(datetime.datetime.now().astimezone().utcoffset()))\n",
    "# Top Section\n",
    "trace.packet.extend(add_track(\"Server\", uuid=1, child_ordering=\"LEXICOGRAPHIC\"))\n",
    "\n",
    "# Track\n",
    "trace.packet.extend(add_track(\"Network\", uuid=2, parent_uuid=1))\n",
    "\n",
    "# Instant Events\n",
    "trace.packet.extend(add_instant_event(\"Transfer Requested\", start=base + 42, track_uuid=2, data={\"user\": \"Hadi\"}))\n",
    "trace.packet.extend(add_instant_event(\"Transfer Requested\", start=base + 142, track_uuid=2, data={\"user\": \"Hadi\"}))\n",
    "\n",
    "# Nested Scopes: scopes in one track have to nested.\n",
    "trace.packet.extend(add_scope(\"RPC\", start=base + 50, end=base+ 200, track_uuid=2, data={\"size\": \"220MB\", \"url\": \"http://xldrx.com/\"}))\n",
    "trace.packet.extend(add_scope(\"Wire\", start=base + 100, end=base+150, track_uuid=2))\n",
    "\n",
    "# Unnested Scopes: Unnested scopes need separate tracks (with same name)\n",
    "trace.packet.extend(add_track(\"GPU\", uuid=3, parent_uuid=1))\n",
    "trace.packet.extend(add_track(\"GPU\", uuid=4, parent_uuid=1))\n",
    "\n",
    "trace.packet.extend(add_scope(\"Matmul\", start=base+10, end=base+150, track_uuid=3))\n",
    "trace.packet.extend(add_scope(\"Matmul\", start=base+90, end=base+250, track_uuid=4))\n",
    "\n",
    "\n",
    "# Flows\n",
    "trace.packet.extend(add_track(\"Client\", uuid=5))\n",
    "trace.packet.extend(add_track(\"Thread-0\", uuid=6, parent_uuid=5))\n",
    "trace.packet.extend(add_track(\"Thread-1\", uuid=7, parent_uuid=5))\n",
    "\n",
    "trace.packet.extend(add_scope(\"Stage0\", start=base+10, end=base+50, flow_ids=[1], track_uuid=6))\n",
    "trace.packet.extend(add_scope(\"Stage1\", start=base+100, end=base+120, flow_ids=[1], track_uuid=6))\n",
    "trace.packet.extend(add_scope(\"Stage2\", start=base+110, end=base+150, flow_ids=[1], track_uuid=7))\n",
    "trace.packet.extend(add_scope(\"Stage3\", start=base+160, end=base+250, flow_ids=[1], track_uuid=6))\n",
    "\n",
    "export_perfetto(trace, \"example\")"
   ]
  }
 ],
 "metadata": {
  "kernelspec": {
   "display_name": "Python 3 (ipykernel)",
   "language": "python",
   "name": "python3"
  },
  "language_info": {
   "codemirror_mode": {
    "name": "ipython",
    "version": 3
   },
   "file_extension": ".py",
   "mimetype": "text/x-python",
   "name": "python",
   "nbconvert_exporter": "python",
   "pygments_lexer": "ipython3",
   "version": "3.12.1"
  }
 },
 "nbformat": 4,
 "nbformat_minor": 5
}
